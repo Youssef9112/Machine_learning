{
 "cells": [
  {
   "cell_type": "code",
   "execution_count": 1,
   "metadata": {},
   "outputs": [],
   "source": [
    "import numpy as np\n",
    "import h5py\n",
    "\n",
    "# array that has L elements which represents the number of units in each layer including the input layer\n",
    "\n",
    "layers_dims = [12288, 128, 20, 7, 5, 1]\n",
    "activations = [\"sigmoid\", \"relu\", \"relu\", \"relu\", \"relu\", \"sigmoid\"]\n",
    "L = len(layers_dims) - 1\n",
    "\n",
    "epsilon=1e-8"
   ]
  },
  {
   "cell_type": "code",
   "execution_count": 2,
   "metadata": {},
   "outputs": [],
   "source": [
    "\n",
    "def load_data(train_path, test_path):\n",
    "    train_dataset = h5py.File(train_path, \"r\")\n",
    "    train_set_x_orig = np.array(\n",
    "        train_dataset[\"train_set_x\"][:]\n",
    "    )  # your train set features\n",
    "    train_set_y_orig = np.array(\n",
    "        train_dataset[\"train_set_y\"][:]\n",
    "    )  # your train set labels\n",
    "\n",
    "    test_dataset = h5py.File(test_path, \"r\")\n",
    "    test_set_x_orig = np.array(test_dataset[\"test_set_x\"][:])  # your test set features\n",
    "    test_set_y_orig = np.array(test_dataset[\"test_set_y\"][:])  # your test set labels\n",
    "\n",
    "    classes = np.array(test_dataset[\"list_classes\"][:])  # the list of classes\n",
    "\n",
    "    train_set_y_orig = train_set_y_orig.reshape((1, train_set_y_orig.shape[0]))\n",
    "    test_set_y_orig = test_set_y_orig.reshape((1, test_set_y_orig.shape[0]))\n",
    "\n",
    "    return train_set_x_orig, train_set_y_orig, test_set_x_orig, test_set_y_orig, classes\n",
    "\n"
   ]
  },
  {
   "cell_type": "code",
   "execution_count": 3,
   "metadata": {},
   "outputs": [],
   "source": [
    "train_x_orig, train_y, test_x_orig, test_y, _ = load_data(\n",
    "        \"train_catvnoncat.h5\", \"test_catvnoncat.h5\"\n",
    "    )"
   ]
  },
  {
   "cell_type": "code",
   "execution_count": 4,
   "metadata": {},
   "outputs": [],
   "source": [
    "\n",
    "def sigmoid(z):\n",
    "    z=np.clip(z,-500,500)\n",
    "    return 1 / (1 + np.exp(-z))\n",
    "\n",
    "\n",
    "def relu(z):\n",
    "    return np.maximum(0, z)\n",
    "\n",
    "\n",
    "def der_sigmoid(x):\n",
    "    return sigmoid(x)  (1 - sigmoid(x))\n",
    "\n",
    "\n",
    "def der_relu(x):\n",
    "    return np.where(x > 0, 1, 0)\n"
   ]
  },
  {
   "cell_type": "code",
   "execution_count": 5,
   "metadata": {},
   "outputs": [],
   "source": [
    "\n",
    "\n",
    "\n",
    "def single_layer_initialization(units, n_x):\n",
    "    Wi = np.random.randn(units, n_x) \n",
    "    bi = np.zeros((units, 1))\n",
    "    return Wi, bi\n",
    "\n",
    "\n",
    "def network_initialization(layers_dims: list):\n",
    "    L = len(layers_dims) - 1\n",
    "    parameters = {}\n",
    "    grads = {}\n",
    "    for l in range(L):\n",
    "        (\n",
    "            parameters[\"W\" + str(l + 1)],\n",
    "            parameters[\"b\" + str(l + 1)],\n",
    "        ) = single_layer_initialization(layers_dims[l + 1], layers_dims[l])\n",
    "        grads[\"dW\" + str(l + 1)] = np.zeros((layers_dims[l + 1], layers_dims[l]))\n",
    "        grads[\"db\" + str(l + 1)] = np.zeros((layers_dims[l + 1], 1))\n",
    "    return parameters, grads\n"
   ]
  },
  {
   "cell_type": "code",
   "execution_count": 6,
   "metadata": {},
   "outputs": [],
   "source": [
    "\n",
    "\n",
    "def single_layer_forward_prop(Ai, Wi, bi, activation):\n",
    "    Zi = np.dot(Wi, Ai) + bi  # shape = (no_of_units,m)\n",
    "    if activation == \"relu\":\n",
    "        Ai = relu(Zi)\n",
    "    elif activation == \"sigmoid\":\n",
    "        Ai = sigmoid(Zi)\n",
    "    return Ai, Zi\n",
    "\n",
    "\n",
    "def network_forward_prop(X: np.ndarray, parameters: dict, activation: list):\n",
    "    A1, Z1 = single_layer_forward_prop(\n",
    "        X, parameters[\"W1\"], parameters[\"b1\"], activation[1]\n",
    "    )\n",
    "    A_layer = A1\n",
    "    cache = {}\n",
    "    cache[\"Z1\"] = Z1\n",
    "    cache[\"A1\"] = A1\n",
    "    cache[\"A0\"] = X\n",
    "    for l in range(2, L + 1):\n",
    "        A_layer, Z_layer = single_layer_forward_prop(\n",
    "            A_layer,\n",
    "            parameters[\"W\" + str(l)],\n",
    "            parameters[\"b\" + str(l)],\n",
    "            activation[l],\n",
    "        )\n",
    "        cache[\"A\" + str(l)] = A_layer\n",
    "        cache[\"Z\" + str(l)] = Z_layer\n",
    "    AL = A_layer\n",
    "    return AL, cache\n"
   ]
  },
  {
   "cell_type": "code",
   "execution_count": 7,
   "metadata": {},
   "outputs": [],
   "source": [
    "\n",
    "def compute_cost(Y: np.ndarray, AL: np.ndarray, type: str):\n",
    "    if type == \"cross entropy\":\n",
    "        # cost = -1 * ((Y * np.log(AL)) + (1 - Y) * (np.log(1 - AL))).mean() old\n",
    "        cost = -1 * ((Y * np.log(np.add(np.abs(AL),epsilon))) + (1 - Y) * (np.log(np.add(np.abs(1 - AL),epsilon)))).mean()\n",
    "    return cost\n",
    "\n",
    "def update_parameters(parameters, learning_rate, grads):\n",
    "    for l in range(L):\n",
    "        parameters[\"W\" + str(l + 1)] = (\n",
    "            parameters[\"W\" + str(l + 1)] - learning_rate * grads[\"dW\" + str(l + 1)]\n",
    "        )\n",
    "        parameters[\"b\" + str(l + 1)] = (\n",
    "            parameters[\"b\" + str(l + 1)] - learning_rate * grads[\"db\" + str(l + 1)]\n",
    "        )\n",
    "        return parameters\n",
    "\n"
   ]
  },
  {
   "cell_type": "code",
   "execution_count": 8,
   "metadata": {},
   "outputs": [],
   "source": [
    "\n",
    "\n",
    "def back_prop(AL: np.ndarray,Y: np.ndarray,parameters: dict,grads: dict,cache: dict,activations: list):\n",
    "    dZ = AL - Y\n",
    "    m = Y.shape[1]\n",
    "    for l in range(L, 0, -1):\n",
    "        grads[\"dW\" + str(l)] = np.dot(dZ, (cache[\"A\" + str(l - 1)]).T) / m\n",
    "        grads[\"db\" + str(l)] = np.sum(dZ, axis=1, keepdims=True) / m\n",
    "        if l == 1:\n",
    "            break\n",
    "        dZ = np.dot(parameters[\"W\" + str(l)].T, dZ)\n",
    "        if activations[l - 1] == \"sigmoid\":\n",
    "            dZ = dZ * der_sigmoid(cache[\"Z\" + str(l - 1)])\n",
    "        else:\n",
    "            dZ = dZ * der_relu(cache[\"Z\" + str(l - 1)])\n",
    "    return grads\n",
    "\n",
    "\n",
    "\n",
    "\n",
    "def predict(X: np.ndarray, Y: np.ndarray, parameters: dict, activations: list):\n",
    "    AL, _ = network_forward_prop(X, parameters, activations)\n",
    "    AL = np.round(AL,0).astype(int)\n",
    "    print(\"Accuracy: \" + str(np.sum(AL == Y) / Y.shape[1]))\n",
    "    return AL\n",
    "\n",
    "\n",
    "\n",
    "\n"
   ]
  },
  {
   "cell_type": "code",
   "execution_count": 9,
   "metadata": {},
   "outputs": [],
   "source": [
    "def model(X, Y, activations, learning_rate, num_iterations):\n",
    "    costs = []\n",
    "    parameters, grads = network_initialization(layers_dims)\n",
    "    for i in range(num_iterations):\n",
    "        AL, cache = network_forward_prop(X, parameters, activations)\n",
    "        cost = compute_cost(Y, AL, \"cross entropy\")\n",
    "        grads = back_prop(AL, Y, parameters, grads, cache, activations)\n",
    "        parameters = update_parameters(parameters, learning_rate, grads)\n",
    "        if (i % 100 == 0) or (i == num_iterations):\n",
    "            print(f\"Iteration: {i} cost: {cost}\")\n",
    "        costs.append(cost)            \n",
    "    return parameters, costs\n",
    "\n"
   ]
  },
  {
   "cell_type": "code",
   "execution_count": 10,
   "metadata": {},
   "outputs": [],
   "source": [
    "\n",
    "def main():\n",
    "    train_x_orig, train_y, test_x_orig, test_y, _ = load_data(\n",
    "        \"train_catvnoncat.h5\", \"test_catvnoncat.h5\"\n",
    "    )\n",
    "    # Reshape the training and test examples\n",
    "    train_x_flatten = train_x_orig.reshape(\n",
    "        train_x_orig.shape[0], -1\n",
    "    ).T  # The \"-1\" makes reshape flatten the remaining dimensions\n",
    "    test_x_flatten = test_x_orig.reshape(test_x_orig.shape[0], -1).T\n",
    "\n",
    "    # Standardize data to have feature values between 0 and 1.\n",
    "    train_x = train_x_flatten / 255.0\n",
    "    test_x = test_x_flatten / 255.0\n",
    "\n",
    "    parameters, costs = model(train_x, train_y, activations, 1e-2, 100)\n",
    "\n",
    "    # parameters, _ = network_initialization(layers_dims)\n",
    "    # print(parameters)\n",
    "    # Al, __ = network_forward_prop(train_x, parameters, activations)\n",
    "    # print(Al)\n",
    "\n",
    "    Al = predict(test_x, test_y, parameters, activations)\n",
    "    _ = predict(train_x, train_y, parameters, activations)\n",
    "    return parameters, costs\n"
   ]
  },
  {
   "cell_type": "code",
   "execution_count": 11,
   "metadata": {},
   "outputs": [
    {
     "name": "stdout",
     "output_type": "stream",
     "text": [
      "Iteration: 0 cost: 11.813705101508624\n",
      "Accuracy: 0.32\n",
      "Accuracy: 0.7368421052631579\n"
     ]
    }
   ],
   "source": [
    "params,costs=main()"
   ]
  },
  {
   "cell_type": "code",
   "execution_count": 14,
   "metadata": {},
   "outputs": [
    {
     "data": {
      "text/plain": [
       "[<matplotlib.lines.Line2D at 0x7fbfa0aec2b0>]"
      ]
     },
     "execution_count": 14,
     "metadata": {},
     "output_type": "execute_result"
    },
    {
     "data": {
      "image/png": "[encoded data removed]",
      "text/plain": [
       "<Figure size 640x480 with 1 Axes>"
      ]
     },
     "metadata": {},
     "output_type": "display_data"
    }
   ],
   "source": [
    "import matplotlib.pyplot as plt\n",
    "Is,Cs=zip(*enumerate(costs))\n",
    "plt.plot(Is,Cs)"
   ]
  }
 ],
 "metadata": {
  "kernelspec": {
   "display_name": "tf",
   "language": "python",
   "name": "python3"
  },
  "language_info": {
   "codemirror_mode": {
    "name": "ipython",
    "version": 3
   },
   "file_extension": ".py",
   "mimetype": "text/x-python",
   "name": "python",
   "nbconvert_exporter": "python",
   "pygments_lexer": "ipython3",
   "version": "3.9.17"
  },
  "orig_nbformat": 4
 },
 "nbformat": 4,
 "nbformat_minor": 2
}
